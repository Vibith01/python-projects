{
 "cells": [
  {
   "cell_type": "code",
   "execution_count": 3,
   "id": "b2536547",
   "metadata": {},
   "outputs": [],
   "source": [
    "from tkinter import *"
   ]
  },
  {
   "cell_type": "code",
   "execution_count": 4,
   "id": "8fd39c55",
   "metadata": {},
   "outputs": [],
   "source": [
    "num = \"\"\n",
    "def clicked(value):\n",
    "    global num\n",
    "    num += value\n",
    "    lab.config(text=num)\n",
    "def clear():\n",
    "    global num\n",
    "    num = \"\"\n",
    "    lab.config(text=num)\n",
    "def equals():\n",
    "    global num\n",
    "    result = \"\"\n",
    "    if num != \"\":\n",
    "        try:\n",
    "            result = eval(num)\n",
    "        except:\n",
    "            result='error'\n",
    "            num=\"\"\n",
    "    lab.config(text=result)"
   ]
  },
  {
   "cell_type": "code",
   "execution_count": 5,
   "id": "5732216a",
   "metadata": {},
   "outputs": [],
   "source": [
    "window = Tk()\n",
    "window.title(\"Calculator\")\n",
    "window.geometry('350x410')\n",
    "\n",
    "lab = Label(window, font=(\"Arial Bold\", 20))\n",
    "lab.pack()\n",
    "\n",
    "b1 = Button(window,text=\"C\",width=10,height=3,bg='light gray',command=lambda: clear())\n",
    "b1.place(x=10,y=100)\n",
    "b2 = Button(window,text=\"00\",width=10,height=3,bg='light gray',command=lambda: clicked(\"00\"))\n",
    "b2.place(x=95,y=100)\n",
    "b3 = Button(window,text=\"%\",width=10,height=3,bg='light gray',command=lambda: clicked(\"%\"))\n",
    "b3.place(x=180,y=100)\n",
    "b4 = Button(window,text=\"*\",width=10,height=3,bg='light gray',command=lambda: clicked(\"*\"))\n",
    "b4.place(x=265,y=100)\n",
    "\n",
    "b5 = Button(window,text=\"7\",width=10,height=3,command=lambda: clicked(\"7\"))\n",
    "b5.place(x=10,y=160)\n",
    "b6 = Button(window,text=\"8\",width=10,height=3,command=lambda: clicked(\"8\"))\n",
    "b6.place(x=95,y=160)\n",
    "b7 = Button(window,text=\"9\",width=10,height=3,command=lambda: clicked(\"9\"))\n",
    "b7.place(x=180,y=160)\n",
    "b8 = Button(window,text=\"/\",width=10,height=3,bg='light gray',command=lambda: clicked(\"/\"))\n",
    "b8.place(x=265,y=160)\n",
    "\n",
    "b9 = Button(window,text=\"4\",width=10,height=3,command=lambda: clicked(\"4\"))\n",
    "b9.place(x=10,y=220)\n",
    "b10 = Button(window,text=\"5\",width=10,height=3,command=lambda: clicked(\"5\"))\n",
    "b10.place(x=95,y=220)\n",
    "b11 = Button(window,text=\"6\",width=10,height=3,command=lambda: clicked(\"6\"))\n",
    "b11.place(x=180,y=220)\n",
    "b12 = Button(window,text=\"-\",width=10,height=3,bg='light gray',command=lambda: clicked(\"-\"))\n",
    "b12.place(x=265,y=220)\n",
    "\n",
    "b13 = Button(window,text=\"1\",width=10,height=3,command=lambda: clicked(\"1\"))\n",
    "b13.place(x=10,y=280)\n",
    "b14 = Button(window,text=\"2\",width=10,height=3,command=lambda: clicked(\"2\"))\n",
    "b14.place(x=95,y=280)\n",
    "b15 = Button(window,text=\"3\",width=10,height=3,command=lambda: clicked(\"3\"))\n",
    "b15.place(x=180,y=280)\n",
    "b16 = Button(window,text=\"+\",width=10,height=3,bg='light gray',command=lambda: clicked(\"+\"))\n",
    "b16.place(x=265,y=280)\n",
    "\n",
    "b17 = Button(window,text=\"0\",width=10,height=3,command=lambda: clicked(\"0\"))\n",
    "b17.place(x=10,y=340)\n",
    "b18 = Button(window,text=\".\",width=10,height=3,command=lambda: clicked(\".\"))\n",
    "b18.place(x=95,y=340)\n",
    "b19 = Button(window,text=\"=\",width=22,height=3,bg='orange',command=lambda: equals())\n",
    "b19.place(x=180,y=340)\n",
    "\n",
    "window.mainloop()"
   ]
  },
  {
   "cell_type": "code",
   "execution_count": null,
   "id": "91f01318",
   "metadata": {},
   "outputs": [],
   "source": []
  }
 ],
 "metadata": {
  "kernelspec": {
   "display_name": "Python 3 (ipykernel)",
   "language": "python",
   "name": "python3"
  },
  "language_info": {
   "codemirror_mode": {
    "name": "ipython",
    "version": 3
   },
   "file_extension": ".py",
   "mimetype": "text/x-python",
   "name": "python",
   "nbconvert_exporter": "python",
   "pygments_lexer": "ipython3",
   "version": "3.11.5"
  }
 },
 "nbformat": 4,
 "nbformat_minor": 5
}
